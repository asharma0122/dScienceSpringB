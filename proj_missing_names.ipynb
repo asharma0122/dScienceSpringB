{
 "cells": [
  {
   "cell_type": "code",
   "execution_count": 7,
   "metadata": {},
   "outputs": [
    {
     "name": "stdout",
     "output_type": "stream",
     "text": [
      "project code map:\n",
      "\n",
      "{'8': 'Human development', '1': 'Economic management', '6': 'Social protection and risk management', '5': 'Trade and integration', '2': 'Public sector governance', '11': 'Environment and natural resources management', '7': 'Social dev/gender/inclusion', '4': 'Financial and private sector development', '10': 'Rural development', '9': 'Urban development', '3': 'Rule of law'}\n",
      "Number of missing name entries: 0\n",
      "3 -- top 10 major project themes using column mjtheme_namecode add missing names to the project codes\n",
      "Environment and natural resources management    250\n",
      "Rural development                               216\n",
      "Human development                               210\n",
      "Public sector governance                        199\n",
      "Social protection and risk management           168\n",
      "Financial and private sector development        146\n",
      "Social dev/gender/inclusion                     130\n",
      "Trade and integration                            77\n",
      "Urban development                                50\n",
      "Economic management                              38\n",
      "Rule of law                                      15\n",
      "Name: name, dtype: int64\n"
     ]
    }
   ],
   "source": [
    "import pandas as pd\n",
    "import json\n",
    "from pandas.io.json import json_normalize\n",
    "\n",
    "#reading json file into dataframe\n",
    "json_world_bank_proj_df = pd.read_json(r'C:\\\\Users\\\\sharm\\\\jsonMiniProj\\\\data_wrangling_json\\\\data\\\\world_bank_projects.json')\n",
    "\n",
    "#Cheking all the columns in the dataframe\n",
    "list_of_columns = json_world_bank_proj_df.columns\n",
    "\n",
    "#slice the original dataframe\n",
    "country_proj_df = json_world_bank_proj_df[['countryname', 'project_name']]\n",
    "\n",
    "#crete empth dataframe with code and name columns\n",
    "thems_df = pd.DataFrame(columns=['code', 'name'])\n",
    "\n",
    "\n",
    "#loop through the json dataframe column mjtheme_namecode and update the new dataframe\n",
    "for row in json_world_bank_proj_df.mjtheme_namecode:\n",
    "    thems_df = thems_df.append(json_normalize(row))\n",
    "\n",
    "thems_df.reset_index(drop=True, inplace=True)\n",
    "#print resultset\n",
    "\n",
    "#create a map for project code and project name\n",
    "proj_dict = dict()\n",
    "for row in thems_df.itertuples():\n",
    "    if row[2] != '':\n",
    "        proj_dict.update({row[1] : row[2]})\n",
    "\n",
    "print('project code map:')        \n",
    "print(proj_dict)\n",
    "print('\\n')\n",
    "#read each tuple in the dataframe and replace empty project name with the value against the project code in proj_map\n",
    "for row in thems_df.itertuples():\n",
    "    if row[2] == '':\n",
    "        thems_df._set_value(row[0], 'name', proj_dict[row[1]])\n",
    "\n",
    "#make sure there are no missing entries in the dataframe        \n",
    "print('Number of missing name entries:', len(thems_df[thems_df['name'] == '']))\n",
    "print('\\n')\n",
    "\n",
    "print(\"3 -- top 10 major project themes using column mjtheme_namecode add missing names to the project codes\")\n",
    "print(thems_df['name'].value_counts())"
   ]
  },
  {
   "cell_type": "code",
   "execution_count": null,
   "metadata": {},
   "outputs": [],
   "source": []
  }
 ],
 "metadata": {
  "kernelspec": {
   "display_name": "Python 3",
   "language": "python",
   "name": "python3"
  },
  "language_info": {
   "codemirror_mode": {
    "name": "ipython",
    "version": 3
   },
   "file_extension": ".py",
   "mimetype": "text/x-python",
   "name": "python",
   "nbconvert_exporter": "python",
   "pygments_lexer": "ipython3",
   "version": "3.7.4"
  }
 },
 "nbformat": 4,
 "nbformat_minor": 2
}
