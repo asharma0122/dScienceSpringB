{
 "cells": [
  {
   "cell_type": "code",
   "execution_count": 3,
   "metadata": {},
   "outputs": [
    {
     "name": "stdout",
     "output_type": "stream",
     "text": [
      "2 -- top 10 major project themes using column mjtheme_namecode\n",
      "Environment and natural resources management    223\n",
      "Rural development                               202\n",
      "Human development                               197\n",
      "Public sector governance                        184\n",
      "Social protection and risk management           158\n",
      "Financial and private sector development        130\n",
      "                                                122\n",
      "Social dev/gender/inclusion                     119\n",
      "Trade and integration                            72\n",
      "Urban development                                47\n",
      "Economic management                              33\n",
      "Rule of law                                      12\n",
      "Name: name, dtype: int64\n"
     ]
    }
   ],
   "source": [
    "import pandas as pd\n",
    "import json\n",
    "from pandas.io.json import json_normalize\n",
    "\n",
    "#reading json file into dataframe\n",
    "json_world_bank_proj_df = pd.read_json(r'C:\\\\Users\\\\sharm\\\\jsonMiniProj\\\\data_wrangling_json\\\\data\\\\world_bank_projects.json')\n",
    "\n",
    "#Cheking all the columns in the dataframe\n",
    "list_of_columns = json_world_bank_proj_df.columns\n",
    "\n",
    "#slice the original dataframe\n",
    "country_proj_df = json_world_bank_proj_df[['countryname', 'project_name']]\n",
    "\n",
    "print(\"2 -- top 10 major project themes using column mjtheme_namecode\")\n",
    "#crete empth dataframe with code and name columns\n",
    "thems_df = pd.DataFrame(columns=['code', 'name'])\n",
    "\n",
    "\n",
    "#loop through the json dataframe column mjtheme_namecode and update the new dataframe\n",
    "for row in json_world_bank_proj_df.mjtheme_namecode:\n",
    "    thems_df = thems_df.append(json_normalize(row))\n",
    "\n",
    "thems_df.reset_index(drop=True, inplace=True)\n",
    "#print resultset\n",
    "print(thems_df['name'].value_counts())"
   ]
  },
  {
   "cell_type": "code",
   "execution_count": null,
   "metadata": {},
   "outputs": [],
   "source": []
  }
 ],
 "metadata": {
  "kernelspec": {
   "display_name": "Python 3",
   "language": "python",
   "name": "python3"
  },
  "language_info": {
   "codemirror_mode": {
    "name": "ipython",
    "version": 3
   },
   "file_extension": ".py",
   "mimetype": "text/x-python",
   "name": "python",
   "nbconvert_exporter": "python",
   "pygments_lexer": "ipython3",
   "version": "3.7.4"
  }
 },
 "nbformat": 4,
 "nbformat_minor": 2
}
