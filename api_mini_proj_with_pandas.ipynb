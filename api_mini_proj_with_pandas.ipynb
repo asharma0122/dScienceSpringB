{
 "cells": [
  {
   "cell_type": "markdown",
   "metadata": {},
   "source": [
    "<h1>These are your tasks for this mini project:</h1>\n",
    "\n",
    "1 Collect data from the Franfurt Stock Exchange, for the ticker AFX_X, for the whole year 2017 (keep in mind that the date format is YYYY-MM-DD).<br>\n",
    "2 Convert the returned JSON object into a Python dictionary.<br>\n",
    "3 Calculate what the highest and lowest opening prices were for the stock in this period.<br>\n",
    "4 What was the largest change in any one day (based on High and Low price)?<br>\n",
    "5 What was the largest change between any two days (based on Closing Price)?<br>\n",
    "6 What was the average daily trading volume during this year?<br>\n",
    "7 (Optional) What was the median trading volume during this year. (Note: you may need to implement your own function for calculating the median.)<br>"
   ]
  },
  {
   "cell_type": "code",
   "execution_count": 68,
   "metadata": {},
   "outputs": [],
   "source": [
    "# import the relevant modules\n",
    "import json\n",
    "import pandas as pd\n",
    "from pandas.io.json import json_normalize\n",
    "from urllib.request import urlopen\n",
    "import requests"
   ]
  },
  {
   "cell_type": "code",
   "execution_count": 69,
   "metadata": {},
   "outputs": [],
   "source": [
    "#store API key\n",
    "API_KEY = '89Bq6BX9gagnrJma5DqY'\n",
    "start_date_tmp = '2020-04-02'\n",
    "end_date_tmp = '2020-04-02'\n",
    "url = 'https://www.quandl.com/api/v3/datasets/FSE/EON_X?start_date=START_DATE&end_date=END_DATE&api_key='\n",
    "tmp = ((url.replace('START_DATE',start_date_tmp)).replace('END_DATE',end_date_tmp))+API_KEY\n",
    "# Call to Quandl API and pull for a small sample of the data\n",
    "# into the JSON structure that will be returned\n",
    "requested_data = requests.get(tmp)\n",
    "json_data_object = requested_data.json()"
   ]
  },
  {
   "cell_type": "code",
   "execution_count": 70,
   "metadata": {},
   "outputs": [
    {
     "name": "stdout",
     "output_type": "stream",
     "text": [
      "<class 'pandas.core.frame.DataFrame'>\n"
     ]
    }
   ],
   "source": [
    "#normalizing it into a dataframe\n",
    "json_df = json_normalize(json_data_object)\n",
    "print(type(json_df))"
   ]
  },
  {
   "cell_type": "code",
   "execution_count": 71,
   "metadata": {},
   "outputs": [
    {
     "name": "stdout",
     "output_type": "stream",
     "text": [
      "Index(['dataset.id', 'dataset.dataset_code', 'dataset.database_code',\n",
      "       'dataset.name', 'dataset.description', 'dataset.refreshed_at',\n",
      "       'dataset.newest_available_date', 'dataset.oldest_available_date',\n",
      "       'dataset.column_names', 'dataset.frequency', 'dataset.type',\n",
      "       'dataset.premium', 'dataset.limit', 'dataset.transform',\n",
      "       'dataset.column_index', 'dataset.start_date', 'dataset.end_date',\n",
      "       'dataset.data', 'dataset.collapse', 'dataset.order',\n",
      "       'dataset.database_id'],\n",
      "      dtype='object')\n"
     ]
    }
   ],
   "source": [
    "#printing columns in the dataframe\n",
    "print(json_df.columns)"
   ]
  },
  {
   "cell_type": "code",
   "execution_count": 84,
   "metadata": {},
   "outputs": [],
   "source": [
    "# Collect data from FSE for AFX_X for 2017 with API call\n",
    "fse_afx_url = 'https://www.quandl.com/api/v3/datasets/FSE/AFX_X.json?api_key=89Bq6BX9gagnrJma5DqY&start_date=2017-01-01&end_date=2017-12-31'\n",
    "fse_afx_json = requests.get(fse_afx_url)"
   ]
  },
  {
   "cell_type": "code",
   "execution_count": 85,
   "metadata": {},
   "outputs": [
    {
     "name": "stdout",
     "output_type": "stream",
     "text": [
      "<class 'dict'>\n"
     ]
    }
   ],
   "source": [
    "#Convert the returned JSON object into a Python dictionary.\n",
    "fse_afx_dict = fse_afx_json.json()\n",
    "print(type(fse_afx_dict))"
   ]
  },
  {
   "cell_type": "code",
   "execution_count": 86,
   "metadata": {},
   "outputs": [
    {
     "name": "stdout",
     "output_type": "stream",
     "text": [
      "highest opening price -- 53.11$\n",
      "\n",
      "lowest opening price -- 34.0$\n",
      "\n"
     ]
    }
   ],
   "source": [
    "#Calculate what the highest and lowest opening prices were for the stock in this period.\n",
    "fse_afx_column_names = (fse_afx_dict['dataset']['column_names'])\n",
    "fse_afx_column_data = fse_afx_dict['dataset']['data']\n",
    "fse_afx_2017 = pd.DataFrame(columns=fse_afx_column_names,data=fse_afx_column_data)\n",
    "fse_afx_2017.set_index('Date',inplace=True)\n",
    "highest_opening = fse_afx_2017.Open.max()\n",
    "lowest_opening = fse_afx_2017.Open.min()\n",
    "print('highest opening price -- '+str(highest_opening)+'$\\n')\n",
    "print('lowest opening price -- '+str(lowest_opening)+'$\\n')"
   ]
  },
  {
   "cell_type": "code",
   "execution_count": 87,
   "metadata": {},
   "outputs": [
    {
     "name": "stdout",
     "output_type": "stream",
     "text": [
      "largest change in any one day -- 2.8100000000000023$\n",
      "\n"
     ]
    }
   ],
   "source": [
    "#What was the largest change in any one day (based on High and Low price)?\n",
    "max_change = fse_afx_2017.High - fse_afx_2017.Low\n",
    "print('largest change in any one day -- '+str(max_change.max())+'$\\n')"
   ]
  },
  {
   "cell_type": "code",
   "execution_count": 88,
   "metadata": {},
   "outputs": [
    {
     "name": "stdout",
     "output_type": "stream",
     "text": [
      "Largest change between any two days -- 2.559999999999995\n"
     ]
    }
   ],
   "source": [
    "#What was the largest change between any two days\n",
    "close_price_diff = []\n",
    "previous_day_price = 0\n",
    "for close_price_day in fse_afx_2017['Close'].iteritems():\n",
    "    if(previous_day_price == 0):\n",
    "        previous_day_price = close_price_day[1]\n",
    "    else:\n",
    "        close_price_diff.append(close_price_day[1] - previous_day_price)\n",
    "        previous_day_price = close_price_day[1]\n",
    "\n",
    "\n",
    "if(abs(min(close_price_diff)) > max(close_price_diff)):\n",
    "    max_diff = abs(min(close_price_diff))\n",
    "else:\n",
    "    max_diff = max(close_price_diff)\n",
    "\n",
    "print('Largest change between any two days -- '+str(max_diff))\n",
    "    "
   ]
  },
  {
   "cell_type": "code",
   "execution_count": 89,
   "metadata": {},
   "outputs": [
    {
     "name": "stdout",
     "output_type": "stream",
     "text": [
      "Average daily trading volume in 2017 -- 89124.33725490196\n"
     ]
    }
   ],
   "source": [
    "#What was the average daily trading volume during this year?\n",
    "print('Average daily trading volume in 2017 -- '+str((fse_afx_2017['Traded Volume']).mean()))"
   ]
  },
  {
   "cell_type": "code",
   "execution_count": 90,
   "metadata": {},
   "outputs": [
    {
     "name": "stdout",
     "output_type": "stream",
     "text": [
      "Median daily trading volume in 2017 -- 76286.0\n"
     ]
    }
   ],
   "source": [
    "#What was the median trading volume during this year\n",
    "print('Median daily trading volume in 2017 -- '+str((fse_afx_2017['Traded Volume']).median()))"
   ]
  }
 ],
 "metadata": {
  "kernelspec": {
   "display_name": "Python 3",
   "language": "python",
   "name": "python3"
  },
  "language_info": {
   "codemirror_mode": {
    "name": "ipython",
    "version": 3
   },
   "file_extension": ".py",
   "mimetype": "text/x-python",
   "name": "python",
   "nbconvert_exporter": "python",
   "pygments_lexer": "ipython3",
   "version": "3.7.4"
  }
 },
 "nbformat": 4,
 "nbformat_minor": 2
}
