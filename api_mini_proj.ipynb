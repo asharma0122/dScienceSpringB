{
 "cells": [
  {
   "cell_type": "markdown",
   "metadata": {},
   "source": [
    "<h1>These are your tasks for this mini project:</h1>\n",
    "\n",
    "1 Collect data from the Franfurt Stock Exchange, for the ticker AFX_X, for the whole year 2017 (keep in mind that the date format is YYYY-MM-DD).<br>\n",
    "2 Convert the returned JSON object into a Python dictionary.<br>\n",
    "3 Calculate what the highest and lowest opening prices were for the stock in this period.<br>\n",
    "4 What was the largest change in any one day (based on High and Low price)?<br>\n",
    "5 What was the largest change between any two days (based on Closing Price)?<br>\n",
    "6 What was the average daily trading volume during this year?<br>\n",
    "7 (Optional) What was the median trading volume during this year. (Note: you may need to implement your own function for calculating the median.)<br>"
   ]
  },
  {
   "cell_type": "code",
   "execution_count": 2,
   "metadata": {},
   "outputs": [],
   "source": [
    "# import the relevant modules\n",
    "import json\n",
    "import requests"
   ]
  },
  {
   "cell_type": "code",
   "execution_count": 3,
   "metadata": {},
   "outputs": [],
   "source": [
    "#store API key\n",
    "API_KEY = 'XXXXXXXXXXXXXXXXXX'\n",
    "url = 'https://www.quandl.com/api/v3/datasets/FSE/EON_X?start_date=2020-04-02&end_date=2020-04-02&api_key='+API_KEY\n",
    "\n",
    "# Call to Quandl API and pull for a small sample of the data\n",
    "# into the JSON structure that will be returned\n",
    "requested_data = requests.get(url)\n",
    "json_data_object = requested_data.json()"
   ]
  },
  {
   "cell_type": "code",
   "execution_count": 4,
   "metadata": {},
   "outputs": [
    {
     "name": "stdout",
     "output_type": "stream",
     "text": [
      "<class 'dict'>\n"
     ]
    }
   ],
   "source": [
    "#check type of returned object\n",
    "print(type(json_data_object))"
   ]
  },
  {
   "cell_type": "code",
   "execution_count": 5,
   "metadata": {},
   "outputs": [
    {
     "name": "stdout",
     "output_type": "stream",
     "text": [
      "{'dataset': {'id': 36592406, 'dataset_code': 'EON_X', 'database_code': 'FSE', 'name': 'E.on Se (EON_X)', 'description': 'Stock Prices for E.on Se (2020-03-20) from the Frankfurt Stock Exchange.<br><br>Trading System: Xetra<br><br>ISIN: DE000ENAG999', 'refreshed_at': '2020-04-03T22:16:43.350Z', 'newest_available_date': '2020-04-03', 'oldest_available_date': '2003-01-20', 'column_names': ['Date', 'Open', 'High', 'Low', 'Close', 'Change', 'Traded Volume', 'Turnover', 'Last Price of the Day', 'Daily Traded Units', 'Daily Turnover'], 'frequency': 'daily', 'type': 'Time Series', 'premium': False, 'limit': None, 'transform': None, 'column_index': None, 'start_date': '2020-04-02', 'end_date': '2020-04-02', 'data': [['2020-04-02', 9.142, 9.164, 8.814, 8.94, None, 12637133.0, 112923829.51, None, None, None]], 'collapse': None, 'order': None, 'database_id': 6129}}\n"
     ]
    }
   ],
   "source": [
    "#printing columns in the dataframe\n",
    "print(json_data_object)\n",
    "#observation dataset is the base element\n",
    "#clild elements: id,dataset_code,database_code,name,description,refreshed_at,newest_available_date,oldest_available_date,column_names,frequency,type,premium,limit,transform,data\n",
    "#column_names: contin the list of columns with price data ['Date', 'Open', 'High', 'Low', 'Close', 'Change', 'Traded Volume', 'Turnover', 'Last Price of the Day', 'Daily Traded Units', 'Daily Turnover']"
   ]
  },
  {
   "cell_type": "markdown",
   "metadata": {},
   "source": [
    "<h1>Observations </h1>\n",
    "dataset is the base element<br>\n",
    "#clild elements:<br> id,dataset_code,database_code,name,description,refreshed_at,newest_available_date,oldest_available_date,column_names,frequency,type,premium,limit,transform,data<br>\n",
    "#column_names: contin the list of columns with price data ['Date', 'Open', 'High', 'Low', 'Close', 'Change', 'Traded Volume', 'Turnover', 'Last Price of the Day', 'Daily Traded Units', 'Daily Turnover']<br>\n",
    "#data has the data for the price columns<br>"
   ]
  },
  {
   "cell_type": "code",
   "execution_count": 6,
   "metadata": {},
   "outputs": [],
   "source": [
    "# Collect data from FSE for AFX_X for 2017 with API call\n",
    "fse_afx_url = 'https://www.quandl.com/api/v3/datasets/FSE/AFX_X?api_key=XXXXXXXXXXXXXXXXXX&start_date=2017-01-01&end_date=2017-12-31'\n",
    "fse_afx_json = requests.get(fse_afx_url)"
   ]
  },
  {
   "cell_type": "code",
   "execution_count": 7,
   "metadata": {},
   "outputs": [
    {
     "name": "stdout",
     "output_type": "stream",
     "text": [
      "<class 'dict'>\n"
     ]
    }
   ],
   "source": [
    "#Convert the returned JSON object into a Python dictionary.\n",
    "fse_afx_dict = json.loads(fse_afx_json.text)\n",
    "print(type(fse_afx_dict))"
   ]
  },
  {
   "cell_type": "code",
   "execution_count": 8,
   "metadata": {},
   "outputs": [
    {
     "name": "stdout",
     "output_type": "stream",
     "text": [
      "{'Date': 0, 'Open': 1, 'High': 2, 'Low': 3, 'Close': 4, 'Change': 5, 'Traded Volume': 6, 'Turnover': 7, 'Last Price of the Day': 8, 'Daily Traded Units': 9, 'Daily Turnover': 10}\n",
      "Highest opening price in 2017 -- 53.11\n",
      "Lowest opening price in 2017 -- 34.0\n"
     ]
    }
   ],
   "source": [
    "#task: Calculate what the highest and lowest opening prices were for the stock in this period.\n",
    "\n",
    "#get important column names \n",
    "fse_afx_column_names = (fse_afx_dict['dataset']['column_names'])\n",
    "\n",
    "#get column to index map\n",
    "column_index_map = dict()\n",
    "for i in range(0,len(fse_afx_column_names)):\n",
    "    column_index_map.update({fse_afx_column_names[i]:i})\n",
    "    \n",
    "print(column_index_map)\n",
    "\n",
    "#get column data in a 2D array    \n",
    "fse_afx_column_data = fse_afx_dict['dataset']['data']\n",
    "\n",
    "#get list of all columns\n",
    "fse_afx_open_price = []\n",
    "\n",
    "for row_index in range(0,len(fse_afx_column_data)):\n",
    "    open_price = fse_afx_column_data[row_index][column_index_map.get('Open')]\n",
    "    if open_price is not None:\n",
    "        fse_afx_open_price.append(open_price)\n",
    "\n",
    "#print the required output\n",
    "print('Highest opening price in 2017 -- '+str(max(fse_afx_open_price)))\n",
    "print('Lowest opening price in 2017 -- '+str(min(fse_afx_open_price)))"
   ]
  },
  {
   "cell_type": "code",
   "execution_count": 10,
   "metadata": {},
   "outputs": [
    {
     "name": "stdout",
     "output_type": "stream",
     "text": [
      "largest change in any one day -- 2.8100000000000023$\n",
      "\n"
     ]
    }
   ],
   "source": [
    "#What was the largest change in any one day (based on High and Low price)?\n",
    "change_in_day = [(day_data[column_index_map.get('High')] - day_data[column_index_map.get('Low')]) for day_data in fse_afx_column_data]\n",
    "print('largest change in any one day -- '+str(max(change_in_day))+'$\\n')"
   ]
  },
  {
   "cell_type": "code",
   "execution_count": 15,
   "metadata": {},
   "outputs": [
    {
     "name": "stdout",
     "output_type": "stream",
     "text": [
      "Largest change between any two days -- 2.559999999999995\n"
     ]
    }
   ],
   "source": [
    "#What was the largest change between any two days\n",
    "close_price_diff = []\n",
    "previous_day_price = 0\n",
    "\n",
    "fse_afx_close_price = []\n",
    "\n",
    "for row_index in range(0,len(fse_afx_column_data)):\n",
    "    close_price = fse_afx_column_data[row_index][column_index_map.get('Close')]\n",
    "    if close_price is not None:\n",
    "        fse_afx_close_price.append(close_price)\n",
    "\n",
    "        \n",
    "for close_price_day in fse_afx_close_price:\n",
    "    if(previous_day_price == 0):\n",
    "        previous_day_price = close_price_day\n",
    "    else:\n",
    "        close_price_diff.append(close_price_day - previous_day_price)\n",
    "        previous_day_price = close_price_day\n",
    "\n",
    "\n",
    "if(abs(min(close_price_diff)) > max(close_price_diff)):\n",
    "    max_diff = abs(min(close_price_diff))\n",
    "else:\n",
    "    max_diff = max(close_price_diff)\n",
    "\n",
    "print('Largest change between any two days -- '+str(max_diff))\n"
   ]
  },
  {
   "cell_type": "code",
   "execution_count": 21,
   "metadata": {},
   "outputs": [
    {
     "name": "stdout",
     "output_type": "stream",
     "text": [
      "Average daily trading volume in 2017 -- 89124.33725490196\n"
     ]
    }
   ],
   "source": [
    "#define mean method to calculate mean of a list \n",
    "def mean(arg_list): \n",
    "    return sum(arg_list) / len(arg_list) \n",
    "\n",
    "fse_afx_trd_vol = []\n",
    "\n",
    "for row_index in range(0,len(fse_afx_column_data)):\n",
    "    trd_vol = fse_afx_column_data[row_index][column_index_map.get('Traded Volume')]\n",
    "    if trd_vol is not None:\n",
    "        fse_afx_trd_vol.append(trd_vol)\n",
    "\n",
    "#What was the average daily trading volume during this year?\n",
    "print('Average daily trading volume in 2017 -- '+str(mean(fse_afx_trd_vol)))"
   ]
  },
  {
   "cell_type": "code",
   "execution_count": 30,
   "metadata": {},
   "outputs": [
    {
     "name": "stdout",
     "output_type": "stream",
     "text": [
      "Median trading volume during this year is 76600 trades.\n"
     ]
    }
   ],
   "source": [
    "#What was the median trading volume during this year. \n",
    "sorted_trd_vol = sorted(fse_afx_trd_vol)\n",
    "len_trd_vol = len(sorted_trd_vol)\n",
    "half_len = round(len_trd_vol/2)\n",
    "\n",
    "#check if count is even or odd\n",
    "if len_trd_vol % 2 == 1 :\n",
    "    print('Median trading volume during this year is %d trades.' % sorted_trd_vol[half_len])\n",
    "else:\n",
    "    print('Median trading volume during this year is %d trades.' % (sorted_trd_vol[half_len]+sorted_trd_vol[half_len+1])/2)"
   ]
  }
 ],
 "metadata": {
  "kernelspec": {
   "display_name": "Python 3",
   "language": "python",
   "name": "python3"
  },
  "language_info": {
   "codemirror_mode": {
    "name": "ipython",
    "version": 3
   },
   "file_extension": ".py",
   "mimetype": "text/x-python",
   "name": "python",
   "nbconvert_exporter": "python",
   "pygments_lexer": "ipython3",
   "version": "3.7.4"
  }
 },
 "nbformat": 4,
 "nbformat_minor": 2
}
